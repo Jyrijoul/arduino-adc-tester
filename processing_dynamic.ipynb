{
 "cells": [
  {
   "cell_type": "code",
   "execution_count": 6,
   "metadata": {},
   "outputs": [],
   "source": [
    "import numpy as np\n",
    "import scipy\n",
    "import pandas as pd\n",
    "import matplotlib.pyplot as plt\n",
    "from scipy import signal"
   ]
  },
  {
   "cell_type": "code",
   "execution_count": 23,
   "metadata": {},
   "outputs": [],
   "source": [
    "from IPython.core.interactiveshell import InteractiveShell\n",
    "InteractiveShell.ast_node_interactivity = \"all\""
   ]
  },
  {
   "cell_type": "markdown",
   "metadata": {},
   "source": [
    "## Dynamic processing\n",
    "\n",
    "This notebooks analyzes the dynamic tests performed on the ADC."
   ]
  },
  {
   "cell_type": "markdown",
   "metadata": {},
   "source": [
    "First, read in the data."
   ]
  },
  {
   "cell_type": "code",
   "execution_count": 144,
   "metadata": {},
   "outputs": [
    {
     "data": {
      "text/html": [
       "<div>\n",
       "<style scoped>\n",
       "    .dataframe tbody tr th:only-of-type {\n",
       "        vertical-align: middle;\n",
       "    }\n",
       "\n",
       "    .dataframe tbody tr th {\n",
       "        vertical-align: top;\n",
       "    }\n",
       "\n",
       "    .dataframe thead th {\n",
       "        text-align: right;\n",
       "    }\n",
       "</style>\n",
       "<table border=\"1\" class=\"dataframe\">\n",
       "  <thead>\n",
       "    <tr style=\"text-align: right;\">\n",
       "      <th></th>\n",
       "      <th>t</th>\n",
       "      <th>vout</th>\n",
       "      <th>code</th>\n",
       "      <th>vout_meas</th>\n",
       "      <th>vref</th>\n",
       "    </tr>\n",
       "  </thead>\n",
       "  <tbody>\n",
       "    <tr>\n",
       "      <th>0</th>\n",
       "      <td>0.0000</td>\n",
       "      <td>2.300000</td>\n",
       "      <td>512.0</td>\n",
       "      <td>2.300000</td>\n",
       "      <td>4.6</td>\n",
       "    </tr>\n",
       "    <tr>\n",
       "      <th>1</th>\n",
       "      <td>0.1958</td>\n",
       "      <td>3.651906</td>\n",
       "      <td>999.0</td>\n",
       "      <td>3.651906</td>\n",
       "      <td>4.6</td>\n",
       "    </tr>\n",
       "    <tr>\n",
       "      <th>2</th>\n",
       "      <td>0.3974</td>\n",
       "      <td>4.487430</td>\n",
       "      <td>1001.0</td>\n",
       "      <td>4.487430</td>\n",
       "      <td>4.6</td>\n",
       "    </tr>\n",
       "    <tr>\n",
       "      <th>3</th>\n",
       "      <td>0.5915</td>\n",
       "      <td>4.487430</td>\n",
       "      <td>814.0</td>\n",
       "      <td>4.487430</td>\n",
       "      <td>4.6</td>\n",
       "    </tr>\n",
       "    <tr>\n",
       "      <th>4</th>\n",
       "      <td>0.7553</td>\n",
       "      <td>3.651906</td>\n",
       "      <td>512.0</td>\n",
       "      <td>3.651906</td>\n",
       "      <td>4.6</td>\n",
       "    </tr>\n",
       "  </tbody>\n",
       "</table>\n",
       "</div>"
      ],
      "text/plain": [
       "        t      vout    code  vout_meas  vref\n",
       "0  0.0000  2.300000   512.0   2.300000   4.6\n",
       "1  0.1958  3.651906   999.0   3.651906   4.6\n",
       "2  0.3974  4.487430  1001.0   4.487430   4.6\n",
       "3  0.5915  4.487430   814.0   4.487430   4.6\n",
       "4  0.7553  3.651906   512.0   3.651906   4.6"
      ]
     },
     "execution_count": 144,
     "metadata": {},
     "output_type": "execute_result"
    },
    {
     "data": {
      "text/html": [
       "<div>\n",
       "<style scoped>\n",
       "    .dataframe tbody tr th:only-of-type {\n",
       "        vertical-align: middle;\n",
       "    }\n",
       "\n",
       "    .dataframe tbody tr th {\n",
       "        vertical-align: top;\n",
       "    }\n",
       "\n",
       "    .dataframe thead th {\n",
       "        text-align: right;\n",
       "    }\n",
       "</style>\n",
       "<table border=\"1\" class=\"dataframe\">\n",
       "  <thead>\n",
       "    <tr style=\"text-align: right;\">\n",
       "      <th></th>\n",
       "      <th>t</th>\n",
       "      <th>vout</th>\n",
       "      <th>code</th>\n",
       "      <th>vout_meas</th>\n",
       "      <th>vref</th>\n",
       "    </tr>\n",
       "  </thead>\n",
       "  <tbody>\n",
       "    <tr>\n",
       "      <th>count</th>\n",
       "      <td>28000.000000</td>\n",
       "      <td>28000.000000</td>\n",
       "      <td>28000.000000</td>\n",
       "      <td>28000.000000</td>\n",
       "      <td>2.800000e+04</td>\n",
       "    </tr>\n",
       "    <tr>\n",
       "      <th>mean</th>\n",
       "      <td>4999.129810</td>\n",
       "      <td>2.300000</td>\n",
       "      <td>512.341393</td>\n",
       "      <td>2.300000</td>\n",
       "      <td>4.600000e+00</td>\n",
       "    </tr>\n",
       "    <tr>\n",
       "      <th>std</th>\n",
       "      <td>2886.503004</td>\n",
       "      <td>1.626375</td>\n",
       "      <td>362.808276</td>\n",
       "      <td>1.626375</td>\n",
       "      <td>2.336839e-12</td>\n",
       "    </tr>\n",
       "    <tr>\n",
       "      <th>min</th>\n",
       "      <td>0.000000</td>\n",
       "      <td>0.112570</td>\n",
       "      <td>-1.000000</td>\n",
       "      <td>0.112570</td>\n",
       "      <td>4.600000e+00</td>\n",
       "    </tr>\n",
       "    <tr>\n",
       "      <th>25%</th>\n",
       "      <td>2498.966550</td>\n",
       "      <td>0.948094</td>\n",
       "      <td>210.000000</td>\n",
       "      <td>0.948094</td>\n",
       "      <td>4.600000e+00</td>\n",
       "    </tr>\n",
       "    <tr>\n",
       "      <th>50%</th>\n",
       "      <td>4998.821900</td>\n",
       "      <td>2.300000</td>\n",
       "      <td>512.000000</td>\n",
       "      <td>2.300000</td>\n",
       "      <td>4.600000e+00</td>\n",
       "    </tr>\n",
       "    <tr>\n",
       "      <th>75%</th>\n",
       "      <td>7498.715750</td>\n",
       "      <td>3.651906</td>\n",
       "      <td>815.000000</td>\n",
       "      <td>3.651906</td>\n",
       "      <td>4.600000e+00</td>\n",
       "    </tr>\n",
       "    <tr>\n",
       "      <th>max</th>\n",
       "      <td>11014.021100</td>\n",
       "      <td>4.487430</td>\n",
       "      <td>1004.000000</td>\n",
       "      <td>4.487430</td>\n",
       "      <td>4.600000e+00</td>\n",
       "    </tr>\n",
       "  </tbody>\n",
       "</table>\n",
       "</div>"
      ],
      "text/plain": [
       "                  t          vout          code     vout_meas          vref\n",
       "count  28000.000000  28000.000000  28000.000000  28000.000000  2.800000e+04\n",
       "mean    4999.129810      2.300000    512.341393      2.300000  4.600000e+00\n",
       "std     2886.503004      1.626375    362.808276      1.626375  2.336839e-12\n",
       "min        0.000000      0.112570     -1.000000      0.112570  4.600000e+00\n",
       "25%     2498.966550      0.948094    210.000000      0.948094  4.600000e+00\n",
       "50%     4998.821900      2.300000    512.000000      2.300000  4.600000e+00\n",
       "75%     7498.715750      3.651906    815.000000      3.651906  4.600000e+00\n",
       "max    11014.021100      4.487430   1004.000000      4.487430  4.600000e+00"
      ]
     },
     "execution_count": 144,
     "metadata": {},
     "output_type": "execute_result"
    }
   ],
   "source": [
    "data = pd.read_csv(\"sine_0.csv\")\n",
    "\n",
    "# Subtract start time.\n",
    "start = data.t.values[0]\n",
    "data.t -= start\n",
    "# To ms.\n",
    "data.t /= 1000000\n",
    "# data.t.values[0]\n",
    "data.head()\n",
    "data.describe()\n",
    "# data = data.drop(data[data[\"code\"] < 0].index)"
   ]
  },
  {
   "cell_type": "code",
   "execution_count": 145,
   "metadata": {},
   "outputs": [],
   "source": [
    "def normalize(input_data):\n",
    "    maximum = np.max(input_data)\n",
    "    return np.float64(input_data / maximum)\n",
    "    # return input_data / len(input_data)\n",
    "\n",
    "def normalized_fourier(signal, sample_rate, signal_length):\n",
    "    # transformed_signal = np.abs(np.fft.rfft(signal)) / np.max(signal)\n",
    "    transformed_signal = np.abs(np.fft.rfft(signal)) / signal_length\n",
    "    resolution = sample_rate / signal_length\n",
    "\n",
    "    x = [x * resolution for x in range(len(transformed_signal))]\n",
    "\n",
    "    return transformed_signal, x\n",
    "\n",
    "def to_decibels(signal, power=False):\n",
    "    ref = np.max(signal)\n",
    "    if power:\n",
    "        output = 10 * np.log10(signal / ref)\n",
    "    else:\n",
    "        output = 20 * np.log10(signal / ref)\n",
    "    return output"
   ]
  },
  {
   "cell_type": "code",
   "execution_count": 146,
   "metadata": {},
   "outputs": [],
   "source": [
    "def sine(n_samples: int, periods: float, min_value: float, max_value: float):\n",
    "        x = np.linspace(0, 2 * np.pi * periods, n_samples, endpoint=False)\n",
    "        # Create a sine wave and also map it to the specified range.\n",
    "        return np.interp(np.sin(x), [-1, 1], [min_value, max_value])\n",
    "\n",
    "def code_to_v(code, vref, res=1024):\n",
    "        return code * vref / res"
   ]
  },
  {
   "cell_type": "code",
   "execution_count": 147,
   "metadata": {},
   "outputs": [],
   "source": [
    "def fft_real(signal, power=False):\n",
    "    fft = np.abs(np.fft.rfft(signal)) / len(signal)\n",
    "    fft[1:] *= 2\n",
    "\n",
    "    if power:\n",
    "        fft **= 2\n",
    "    \n",
    "    return fft"
   ]
  },
  {
   "cell_type": "markdown",
   "metadata": {},
   "source": [
    "Calculate all the indices and powers."
   ]
  },
  {
   "cell_type": "code",
   "execution_count": 208,
   "metadata": {},
   "outputs": [
    {
     "data": {
      "text/plain": [
       "2800"
      ]
     },
     "execution_count": 208,
     "metadata": {},
     "output_type": "execute_result"
    },
    {
     "data": {
      "text/plain": [
       "array([ 560,  840, 1120, 1400])"
      ]
     },
     "execution_count": 208,
     "metadata": {},
     "output_type": "execute_result"
    }
   ],
   "source": [
    "n_samples = len(data)\n",
    "fs = 2800\n",
    "frequency = 280\n",
    "periods = n_samples / fs * frequency\n",
    "output_data = sine(n_samples, periods, 0, 4.6)\n",
    "\n",
    "fft_ideal = fft_real(output_data, power=True)\n",
    "fft_actual = fft_real(code_to_v(data.code, data.vref), power=True)\n",
    "\n",
    "# Signal power\n",
    "idx_fundamental = int(frequency * n_samples / fs)\n",
    "idx_fundamental\n",
    "fundamental_power = fft_actual[idx_fundamental]\n",
    "signal_power = fundamental_power\n",
    "\n",
    "# Harmonics' power\n",
    "f_harmonics = np.array([frequency * i for i in range(2, 6)])\n",
    "f_harmonics\n",
    "idx_harmonics = f_harmonics * n_samples / fs\n",
    "idx_harmonics = idx_harmonics.astype(np.int64)\n",
    "harmonics_powers = fft_actual[idx_harmonics]\n",
    "harmonics_power = np.sum(harmonics_powers)\n",
    "\n",
    "# Noise power\n",
    "idx_noise = list(range(1, len(fft_actual)))  # Start from 1 to exclude the DC component.\n",
    "idx_noise.remove(idx_fundamental)\n",
    "for harmonics_i in idx_harmonics:\n",
    "    idx_noise.remove(harmonics_i)\n",
    "noise_powers = fft_actual[idx_noise]\n",
    "noise_power = np.sum(noise_powers)"
   ]
  },
  {
   "cell_type": "markdown",
   "metadata": {},
   "source": [
    "The original plan was just to subtract the ideal power from the measured power, but since the harmonics also needed to be subtracted, the only reasonable way to do this right now is just to remove all the corresponding indices."
   ]
  },
  {
   "cell_type": "markdown",
   "metadata": {},
   "source": [
    "### Total harmonic distortion\n",
    "\n",
    "Usually, when calculating the THD, only 5–6 first harmonics are considered."
   ]
  },
  {
   "cell_type": "code",
   "execution_count": 164,
   "metadata": {},
   "outputs": [
    {
     "data": {
      "text/plain": [
       "63.89682488123462"
      ]
     },
     "execution_count": 164,
     "metadata": {},
     "output_type": "execute_result"
    }
   ],
   "source": [
    "thd = fundamental_power / harmonics_power\n",
    "thd = 10 * np.log10(thd)\n",
    "thd"
   ]
  },
  {
   "cell_type": "markdown",
   "metadata": {},
   "source": [
    "### Signal-to-noise ratio\n",
    "\n",
    "To calculate the SNR, we need to know both the power spectrum of the signal and the noise. For this, let's first calculate the ideal signal's power spectrum and then subtract it from the real signal's spectrum to find the noise. Note, that usually frequency 0 (DC offset) and the first 5–6 harmonics are not taken into account."
   ]
  },
  {
   "cell_type": "code",
   "execution_count": 157,
   "metadata": {},
   "outputs": [
    {
     "data": {
      "text/plain": [
       "[<matplotlib.lines.Line2D at 0x20f88b973a0>]"
      ]
     },
     "execution_count": 157,
     "metadata": {},
     "output_type": "execute_result"
    },
    {
     "data": {
      "text/plain": [
       "[<matplotlib.lines.Line2D at 0x20f88a60640>]"
      ]
     },
     "execution_count": 157,
     "metadata": {},
     "output_type": "execute_result"
    },
    {
     "data": {
      "text/plain": [
       "[<matplotlib.lines.Line2D at 0x20f88a60160>]"
      ]
     },
     "execution_count": 157,
     "metadata": {},
     "output_type": "execute_result"
    },
    {
     "data": {
      "image/png": "[encoded data removed]",
      "text/plain": [
       "<Figure size 432x288 with 1 Axes>"
      ]
     },
     "metadata": {
      "needs_background": "light"
     },
     "output_type": "display_data"
    }
   ],
   "source": [
    "# fft_ideal[2798:2803]\n",
    "# fft_actual[2798:2803]\n",
    "\n",
    "# plt.plot(fft_actual)\n",
    "# plt.plot(fft_ideal)\n",
    "# plt.plot(fft_actual - fft_ideal)\n",
    "# plt.plot(to_decibels(fft_actual, power=True))\n",
    "# plt.plot(to_decibels(fft_ideal, power=True))\n",
    "# plt.plot(to_decibels(fft_actual - fft_ideal, power=True))\n",
    "plt.semilogy(fft_ideal)\n",
    "plt.semilogy(fft_actual)\n",
    "plt.semilogy(fft_actual - fft_ideal)"
   ]
  },
  {
   "cell_type": "code",
   "execution_count": 165,
   "metadata": {},
   "outputs": [
    {
     "data": {
      "text/plain": [
       "37.75292810018851"
      ]
     },
     "execution_count": 165,
     "metadata": {},
     "output_type": "execute_result"
    }
   ],
   "source": [
    "# Old version:\n",
    "# signal_power = np.sum(fft_ideal[1:])\n",
    "# noise_power = np.sum(fft_actual[1:] - fft_ideal[1:])\n",
    "# snr = 10 * np.log10(signal_power / noise_power)\n",
    "# snr\n",
    "\n",
    "# New version:\n",
    "snr = 10 * np.log10(signal_power / noise_power)\n",
    "snr"
   ]
  },
  {
   "cell_type": "markdown",
   "metadata": {},
   "source": [
    "Also find the ideal SNR (equal to SINAD when assuming that there is no distortion)."
   ]
  },
  {
   "cell_type": "code",
   "execution_count": 174,
   "metadata": {},
   "outputs": [
    {
     "data": {
      "text/plain": [
       "61.959999999999994"
      ]
     },
     "execution_count": 174,
     "metadata": {},
     "output_type": "execute_result"
    }
   ],
   "source": [
    "snr_ideal = 6.02 * 10 + 1.76\n",
    "snr_ideal"
   ]
  },
  {
   "cell_type": "markdown",
   "metadata": {},
   "source": [
    "### Spurious-free dynamic range\n",
    "\n",
    "To calculate the SFDR, we need to find the non-signal component with the highest power, be it either a harmonic of the signal or some other frequency component. DC power is not taken into account."
   ]
  },
  {
   "cell_type": "code",
   "execution_count": 177,
   "metadata": {},
   "outputs": [
    {
     "data": {
      "text/plain": [
       "60.73925874798427"
      ]
     },
     "execution_count": 177,
     "metadata": {},
     "output_type": "execute_result"
    }
   ],
   "source": [
    "powers_idx = list(np.flip(np.argsort(fft_actual)))\n",
    "powers_idx.remove(0)  # Remove the DC component.\n",
    "powers_idx.remove(idx_fundamental)  # Remove the signal.\n",
    "spurious_idx = powers_idx[0]\n",
    "sfdr = fundamental_power / fft_actual[spurious_idx]\n",
    "sfdr = 10 * np.log10(sfdr)\n",
    "sfdr"
   ]
  },
  {
   "cell_type": "markdown",
   "metadata": {},
   "source": [
    "### SINAD\n",
    "\n",
    "This is just the combination of SNR and THD, also called THD+N."
   ]
  },
  {
   "cell_type": "code",
   "execution_count": 163,
   "metadata": {},
   "outputs": [
    {
     "data": {
      "text/plain": [
       "37.7423874477357"
      ]
     },
     "execution_count": 163,
     "metadata": {},
     "output_type": "execute_result"
    }
   ],
   "source": [
    "sinad = signal_power / (noise_power + harmonics_power)\n",
    "sinad = 10 * np.log10(sinad)\n",
    "sinad"
   ]
  },
  {
   "cell_type": "markdown",
   "metadata": {},
   "source": [
    "### ENOB\n",
    "\n",
    "The effective number of bits describes the dynamic range of the system and can be lower than the specified resolution in number of bits. Another way of thinking about ENOB is that this number of bits behave equivalently to a perfect ADC."
   ]
  },
  {
   "cell_type": "code",
   "execution_count": 166,
   "metadata": {},
   "outputs": [
    {
     "data": {
      "text/plain": [
       "5.977140772049121"
      ]
     },
     "execution_count": 166,
     "metadata": {},
     "output_type": "execute_result"
    }
   ],
   "source": [
    "enob = (sinad - 1.76) / 6.02\n",
    "enob"
   ]
  },
  {
   "cell_type": "markdown",
   "metadata": {},
   "source": [
    "### Noise floor\n",
    "\n",
    "Also add the noise floor as the average power of the noise."
   ]
  },
  {
   "cell_type": "code",
   "execution_count": 212,
   "metadata": {},
   "outputs": [
    {
     "data": {
      "text/plain": [
       "79.21265712821032"
      ]
     },
     "execution_count": 212,
     "metadata": {},
     "output_type": "execute_result"
    }
   ],
   "source": [
    "noise_floor = np.mean(noise_powers)\n",
    "noise_floor = 10 * np.log10(signal_power / noise_floor)\n",
    "noise_floor"
   ]
  },
  {
   "cell_type": "markdown",
   "metadata": {},
   "source": [
    "### Combined results\n",
    "\n",
    "Finally, let's create a plot which shows many of the previously calculated errors together in dBFS."
   ]
  },
  {
   "cell_type": "code",
   "execution_count": 218,
   "metadata": {},
   "outputs": [
    {
     "data": {
      "text/plain": [
       "<Figure size 1080x720 with 0 Axes>"
      ]
     },
     "execution_count": 218,
     "metadata": {},
     "output_type": "execute_result"
    },
    {
     "data": {
      "text/plain": [
       "[<matplotlib.lines.Line2D at 0x20fa87386d0>]"
      ]
     },
     "execution_count": 218,
     "metadata": {},
     "output_type": "execute_result"
    },
    {
     "data": {
      "text/plain": [
       "<matplotlib.lines.Line2D at 0x20fa58ff2b0>"
      ]
     },
     "execution_count": 218,
     "metadata": {},
     "output_type": "execute_result"
    },
    {
     "data": {
      "text/plain": [
       "<matplotlib.lines.Line2D at 0x20fa8730610>"
      ]
     },
     "execution_count": 218,
     "metadata": {},
     "output_type": "execute_result"
    },
    {
     "data": {
      "text/plain": [
       "<matplotlib.lines.Line2D at 0x20fa8738e80>"
      ]
     },
     "execution_count": 218,
     "metadata": {},
     "output_type": "execute_result"
    },
    {
     "data": {
      "text/plain": [
       "<matplotlib.lines.Line2D at 0x20fa8730520>"
      ]
     },
     "execution_count": 218,
     "metadata": {},
     "output_type": "execute_result"
    },
    {
     "data": {
      "text/plain": [
       "<matplotlib.lines.Line2D at 0x20fa8730640>"
      ]
     },
     "execution_count": 218,
     "metadata": {},
     "output_type": "execute_result"
    },
    {
     "data": {
      "text/plain": [
       "Text(0.5, 0, 'Frequency (Hz)')"
      ]
     },
     "execution_count": 218,
     "metadata": {},
     "output_type": "execute_result"
    },
    {
     "data": {
      "text/plain": [
       "Text(0, 0.5, 'Power (dBFS)')"
      ]
     },
     "execution_count": 218,
     "metadata": {},
     "output_type": "execute_result"
    },
    {
     "data": {
      "text/plain": [
       "<matplotlib.legend.Legend at 0x20fa87305e0>"
      ]
     },
     "execution_count": 218,
     "metadata": {},
     "output_type": "execute_result"
    },
    {
     "data": {
      "image/png": "[encoded data removed]",
      "text/plain": [
       "<Figure size 1080x720 with 1 Axes>"
      ]
     },
     "metadata": {
      "needs_background": "light"
     },
     "output_type": "display_data"
    }
   ],
   "source": [
    "resolution = fs / n_samples\n",
    "x = [x * resolution for x in range(len(fft_actual))]\n",
    "\n",
    "plt.figure(figsize=(15, 10))\n",
    "\n",
    "fft_ideal_dbfs = to_decibels(fft_ideal, power=True)\n",
    "fft_actual_dbfs = to_decibels(fft_actual, power=True)\n",
    "plt.plot(x, fft_actual_dbfs, label=\"Power spectrum\")\n",
    "\n",
    "plt.axhline(-snr, label=\"SNR\", color=\"tab:orange\", linestyle=\"--\", linewidth=3)\n",
    "plt.axhline(-thd, label=\"THD\", color=\"tab:red\", linestyle=\"--\")\n",
    "plt.axhline(-sinad, label=\"SINAD\", color=\"tab:green\", linestyle=\":\", alpha=1, linewidth=2)\n",
    "plt.axhline(-sfdr, label=\"SFDR\", color=\"tab:purple\", linestyle=\"--\")\n",
    "plt.axhline(-noise_floor, label=\"Noise floor\", color=\"tab:olive\", linestyle=\"--\")\n",
    "\n",
    "plt.xlabel('Frequency (Hz)')\n",
    "plt.ylabel('Power (dBFS)')\n",
    "plt.legend()\n",
    "plt.savefig(\"dynamic.png\")"
   ]
  },
  {
   "cell_type": "code",
   "execution_count": 175,
   "metadata": {},
   "outputs": [
    {
     "data": {
      "text/plain": [
       "<Figure size 432x288 with 0 Axes>"
      ]
     },
     "execution_count": 175,
     "metadata": {},
     "output_type": "execute_result"
    },
    {
     "data": {
      "text/plain": [
       "[<matplotlib.lines.Line2D at 0x20f889f5b80>]"
      ]
     },
     "execution_count": 175,
     "metadata": {},
     "output_type": "execute_result"
    },
    {
     "data": {
      "text/plain": [
       "Text(0.5, 0, 'Frequency (Hz)')"
      ]
     },
     "execution_count": 175,
     "metadata": {},
     "output_type": "execute_result"
    },
    {
     "data": {
      "text/plain": [
       "Text(0, 0.5, 'Linear spectrum (V RMS)')"
      ]
     },
     "execution_count": 175,
     "metadata": {},
     "output_type": "execute_result"
    },
    {
     "data": {
      "image/png": "[encoded data removed]",
      "text/plain": [
       "<Figure size 432x288 with 1 Axes>"
      ]
     },
     "metadata": {
      "needs_background": "light"
     },
     "output_type": "display_data"
    }
   ],
   "source": [
    "f, Pxx_spec = signal.welch(output_data, fs, scaling=\"spectrum\")\n",
    "plt.figure()\n",
    "plt.semilogy(f, np.sqrt(Pxx_spec))\n",
    "plt.xlabel('Frequency (Hz)')\n",
    "plt.ylabel('Linear spectrum (V RMS)')\n",
    "plt.show()"
   ]
  },
  {
   "cell_type": "code",
   "execution_count": 176,
   "metadata": {},
   "outputs": [
    {
     "data": {
      "text/plain": [
       "<Figure size 432x288 with 0 Axes>"
      ]
     },
     "execution_count": 176,
     "metadata": {},
     "output_type": "execute_result"
    },
    {
     "data": {
      "text/plain": [
       "[<matplotlib.lines.Line2D at 0x20f88d4f040>]"
      ]
     },
     "execution_count": 176,
     "metadata": {},
     "output_type": "execute_result"
    },
    {
     "data": {
      "text/plain": [
       "Text(0.5, 0, 'Frequency (Hz)')"
      ]
     },
     "execution_count": 176,
     "metadata": {},
     "output_type": "execute_result"
    },
    {
     "data": {
      "text/plain": [
       "Text(0, 0.5, 'Linear spectrum (V RMS)')"
      ]
     },
     "execution_count": 176,
     "metadata": {},
     "output_type": "execute_result"
    },
    {
     "data": {
      "image/png": "[encoded data removed]",
      "text/plain": [
       "<Figure size 432x288 with 1 Axes>"
      ]
     },
     "metadata": {
      "needs_background": "light"
     },
     "output_type": "display_data"
    }
   ],
   "source": [
    "# f, Pxx_spec = signal.welch(data.code, fs, scaling='spectrum')\n",
    "f, Pxx_spec = signal.welch(code_to_v(data.code, 4.6), fs, scaling='spectrum')\n",
    "plt.figure()\n",
    "plt.semilogy(f, np.sqrt(Pxx_spec))\n",
    "plt.xlabel('Frequency (Hz)')\n",
    "plt.ylabel('Linear spectrum (V RMS)')\n",
    "plt.show()"
   ]
  },
  {
   "cell_type": "markdown",
   "metadata": {},
   "source": [
    "The following was an initial attempt at SNR calculation, not relevant anymore."
   ]
  },
  {
   "cell_type": "code",
   "execution_count": 75,
   "metadata": {},
   "outputs": [
    {
     "name": "stdout",
     "output_type": "stream",
     "text": [
      "[2800    0]\n",
      "257383443772970.7\n",
      "13999\n",
      "8675872314.322504\n",
      "44.72267455677929\n"
     ]
    }
   ],
   "source": [
    "fft = np.abs(np.fft.rfft(data.code))\n",
    "\n",
    "print(fft.argsort()[-2:])\n",
    "\n",
    "signal_power = np.sum(fft[fft.argsort()[-2:]] ** 2)\n",
    "print(signal_power)\n",
    "noise_indices = list(range(len(fft)))\n",
    "del noise_indices[0]\n",
    "del noise_indices[2799]\n",
    "print(len(noise_indices))\n",
    "noise_power = np.sum(fft[noise_indices] ** 2)\n",
    "print(noise_power)\n",
    "\n",
    "snr = 10 * np.log10(signal_power / noise_power)\n",
    "print(snr)"
   ]
  },
  {
   "cell_type": "code",
   "execution_count": 47,
   "metadata": {},
   "outputs": [
    {
     "data": {
      "text/plain": [
       "<Figure size 1080x720 with 0 Axes>"
      ]
     },
     "execution_count": 47,
     "metadata": {},
     "output_type": "execute_result"
    },
    {
     "data": {
      "text/plain": [
       "[<matplotlib.lines.Line2D at 0x20ff9dd0850>]"
      ]
     },
     "execution_count": 47,
     "metadata": {},
     "output_type": "execute_result"
    },
    {
     "data": {
      "text/plain": [
       "[<matplotlib.lines.Line2D at 0x20ff9dd0cd0>]"
      ]
     },
     "execution_count": 47,
     "metadata": {},
     "output_type": "execute_result"
    },
    {
     "data": {
      "text/plain": [
       "Text(0.5, 0, 'Frequency (Hz)')"
      ]
     },
     "execution_count": 47,
     "metadata": {},
     "output_type": "execute_result"
    },
    {
     "data": {
      "text/plain": [
       "Text(0, 0.5, 'dB')"
      ]
     },
     "execution_count": 47,
     "metadata": {},
     "output_type": "execute_result"
    },
    {
     "data": {
      "text/plain": [
       "Text(0, 0, 'SNR = ~76 dB')"
      ]
     },
     "execution_count": 47,
     "metadata": {},
     "output_type": "execute_result"
    },
    {
     "data": {
      "image/png": "[encoded data removed]",
      "text/plain": [
       "<Figure size 1080x720 with 1 Axes>"
      ]
     },
     "metadata": {
      "needs_background": "light"
     },
     "output_type": "display_data"
    }
   ],
   "source": [
    "fft, x = normalized_fourier(data.code, 2800, 28000)\n",
    "fft = to_decibels(fft)\n",
    "\n",
    "fft_, x = normalized_fourier(output_data, 2800, 28000)\n",
    "fft_ = to_decibels(fft_)\n",
    "\n",
    "plt.rc(\"font\", size=16)\n",
    "plt.figure(figsize=(15, 10))\n",
    "plt.plot(x, fft)\n",
    "plt.plot(x, fft_)\n",
    "plt.xlabel(\"Frequency (Hz)\")\n",
    "plt.ylabel(\"dB\")\n",
    "plt.text(0, 0, s=\"SNR = ~76 dB\")"
   ]
  },
  {
   "cell_type": "markdown",
   "metadata": {},
   "source": [
    "### Input-referred noise"
   ]
  },
  {
   "cell_type": "code",
   "execution_count": 243,
   "metadata": {},
   "outputs": [
    {
     "data": {
      "text/html": [
       "<div>\n",
       "<style scoped>\n",
       "    .dataframe tbody tr th:only-of-type {\n",
       "        vertical-align: middle;\n",
       "    }\n",
       "\n",
       "    .dataframe tbody tr th {\n",
       "        vertical-align: top;\n",
       "    }\n",
       "\n",
       "    .dataframe thead th {\n",
       "        text-align: right;\n",
       "    }\n",
       "</style>\n",
       "<table border=\"1\" class=\"dataframe\">\n",
       "  <thead>\n",
       "    <tr style=\"text-align: right;\">\n",
       "      <th></th>\n",
       "      <th>t</th>\n",
       "      <th>vout</th>\n",
       "      <th>code</th>\n",
       "      <th>vout_meas</th>\n",
       "      <th>vref</th>\n",
       "    </tr>\n",
       "  </thead>\n",
       "  <tbody>\n",
       "    <tr>\n",
       "      <th>0</th>\n",
       "      <td>0.0000</td>\n",
       "      <td>2.5</td>\n",
       "      <td>558.0</td>\n",
       "      <td>2.5</td>\n",
       "      <td>4.6</td>\n",
       "    </tr>\n",
       "    <tr>\n",
       "      <th>1</th>\n",
       "      <td>0.3417</td>\n",
       "      <td>2.5</td>\n",
       "      <td>558.0</td>\n",
       "      <td>2.5</td>\n",
       "      <td>4.6</td>\n",
       "    </tr>\n",
       "    <tr>\n",
       "      <th>2</th>\n",
       "      <td>0.5607</td>\n",
       "      <td>2.5</td>\n",
       "      <td>557.0</td>\n",
       "      <td>2.5</td>\n",
       "      <td>4.6</td>\n",
       "    </tr>\n",
       "    <tr>\n",
       "      <th>3</th>\n",
       "      <td>0.7863</td>\n",
       "      <td>2.5</td>\n",
       "      <td>557.0</td>\n",
       "      <td>2.5</td>\n",
       "      <td>4.6</td>\n",
       "    </tr>\n",
       "    <tr>\n",
       "      <th>4</th>\n",
       "      <td>1.0016</td>\n",
       "      <td>2.5</td>\n",
       "      <td>558.0</td>\n",
       "      <td>2.5</td>\n",
       "      <td>4.6</td>\n",
       "    </tr>\n",
       "  </tbody>\n",
       "</table>\n",
       "</div>"
      ],
      "text/plain": [
       "        t  vout   code  vout_meas  vref\n",
       "0  0.0000   2.5  558.0        2.5   4.6\n",
       "1  0.3417   2.5  558.0        2.5   4.6\n",
       "2  0.5607   2.5  557.0        2.5   4.6\n",
       "3  0.7863   2.5  557.0        2.5   4.6\n",
       "4  1.0016   2.5  558.0        2.5   4.6"
      ]
     },
     "execution_count": 243,
     "metadata": {},
     "output_type": "execute_result"
    }
   ],
   "source": [
    "input_noise_data = pd.read_csv(\"input_noise_0.csv\")\n",
    "\n",
    "# Subtract start time.\n",
    "start = input_noise_data.t.values[0]\n",
    "input_noise_data.t -= start\n",
    "# To ms.\n",
    "input_noise_data.t /= 1000000\n",
    "# data.t.values[0]\n",
    "input_noise_data = input_noise_data[input_noise_data[\"code\"] >= 0]\n",
    "input_noise_data.head()"
   ]
  },
  {
   "cell_type": "code",
   "execution_count": 244,
   "metadata": {},
   "outputs": [
    {
     "data": {
      "text/plain": [
       "<Figure size 1080x360 with 0 Axes>"
      ]
     },
     "execution_count": 244,
     "metadata": {},
     "output_type": "execute_result"
    },
    {
     "data": {
      "text/plain": [
       "<Figure size 1080x360 with 0 Axes>"
      ]
     },
     "metadata": {},
     "output_type": "display_data"
    }
   ],
   "source": [
    "plt.figure(figsize=(15, 5))\n",
    "center_code = input_noise_data.code.mode().values[0]\n",
    "input_noise_data.code -= center_code"
   ]
  },
  {
   "cell_type": "code",
   "execution_count": 249,
   "metadata": {},
   "outputs": [
    {
     "name": "stdout",
     "output_type": "stream",
     "text": [
      "(array([1.84018402e-02, 6.38763876e-01, 3.31933193e-01, 1.06010601e-02,\n",
      "       3.00030003e-04]), array([-1.5, -0.5,  0.5,  1.5,  2.5,  3.5]), <BarContainer object of 5 artists>)\n"
     ]
    },
    {
     "data": {
      "text/plain": [
       "[<matplotlib.lines.Line2D at 0x20faa344490>]"
      ]
     },
     "execution_count": 249,
     "metadata": {},
     "output_type": "execute_result"
    },
    {
     "data": {
      "text/plain": [
       "Text(0.5, 0, 'ADC code')"
      ]
     },
     "execution_count": 249,
     "metadata": {},
     "output_type": "execute_result"
    },
    {
     "data": {
      "text/plain": [
       "Text(0, 0.5, 'Probability mass / density')"
      ]
     },
     "execution_count": 249,
     "metadata": {},
     "output_type": "execute_result"
    },
    {
     "data": {
      "text/plain": [
       "<matplotlib.legend.Legend at 0x20fa5c5f910>"
      ]
     },
     "execution_count": 249,
     "metadata": {},
     "output_type": "execute_result"
    },
    {
     "data": {
      "image/png": "[encoded data removed]",
      "text/plain": [
       "<Figure size 432x288 with 1 Axes>"
      ]
     },
     "metadata": {
      "needs_background": "light"
     },
     "output_type": "display_data"
    }
   ],
   "source": [
    "from scipy.stats import norm\n",
    "mean, std_dev = norm.fit(input_noise_data.code.astype(int))\n",
    "\n",
    "values = input_noise_data.code.astype(int)\n",
    "\n",
    "bins = list(np.sort(values.unique()) - 0.5)\n",
    "bins.append(np.max(bins) + 1)\n",
    "real_hist = plt.hist(input_noise_data.code.astype(int), bins=bins, density=True, label=\"PMF\")\n",
    "print(real_hist)\n",
    "# real_hist = plt.hist(input_noise_data.code.astype(int))\n",
    "\n",
    "xmin, xmax = plt.xlim()\n",
    "x = np.linspace(xmin, xmax, 100)\n",
    "p = norm.pdf(x, mean, std_dev)\n",
    "plt.plot(x, p, 'k', linewidth=2, label=\"PDF\")\n",
    "\n",
    "\n",
    "plt.xlabel(\"ADC code\")\n",
    "plt.ylabel(\"Probability mass / density\")\n",
    "plt.legend()"
   ]
  },
  {
   "cell_type": "code",
   "execution_count": 246,
   "metadata": {},
   "outputs": [
    {
     "data": {
      "text/plain": [
       " 0.0    6387\n",
       " 1.0    3319\n",
       "-1.0     184\n",
       " 2.0     106\n",
       " 3.0       3\n",
       "Name: code, dtype: int64"
      ]
     },
     "execution_count": 246,
     "metadata": {},
     "output_type": "execute_result"
    }
   ],
   "source": [
    "input_noise_data.code.value_counts()\n",
    "# input_noise_data.code.argmin()"
   ]
  },
  {
   "cell_type": "code",
   "execution_count": null,
   "metadata": {},
   "outputs": [],
   "source": []
  }
 ],
 "metadata": {
  "interpreter": {
   "hash": "cbbb629280fbfc4f56c1342139480883d2437a494f97f3e72782cfe1c6098409"
  },
  "kernelspec": {
   "display_name": "Python 3.9.7 64-bit ('DAQSP': conda)",
   "language": "python",
   "name": "python3"
  },
  "language_info": {
   "codemirror_mode": {
    "name": "ipython",
    "version": 3
   },
   "file_extension": ".py",
   "mimetype": "text/x-python",
   "name": "python",
   "nbconvert_exporter": "python",
   "pygments_lexer": "ipython3",
   "version": "3.9.7"
  },
  "orig_nbformat": 4
 },
 "nbformat": 4,
 "nbformat_minor": 2
}
